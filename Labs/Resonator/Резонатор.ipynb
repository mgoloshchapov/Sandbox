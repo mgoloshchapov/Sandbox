{
 "cells": [
  {
   "cell_type": "code",
   "execution_count": 1,
   "id": "4c725eca",
   "metadata": {},
   "outputs": [
    {
     "name": "stdout",
     "output_type": "stream",
     "text": [
      "%pylab is deprecated, use %matplotlib inline and import the required libraries.\n",
      "Populating the interactive namespace from numpy and matplotlib\n"
     ]
    }
   ],
   "source": [
    "%pylab inline\n",
    "\n",
    "rcParams['font.family'] = 'Arial'\n",
    "from ipywidgets import interact, interactive\n",
    "from scipy.optimize import curve_fit\n",
    "from scipy.optimize import root\n",
    "import scipy.constants as ct\n",
    "import ipywidgets\n",
    "import pandas as pd\n",
    "\n",
    "from IPython.display import display"
   ]
  },
  {
   "cell_type": "markdown",
   "id": "1802d225",
   "metadata": {},
   "source": [
    "r1, t1, r2, t2 - отражения и пропускания входного (1) и выходного (2) по амплитуде. R = r^2, T=t^2, R+T+A=1, здесь А - потери по интенсивности на зеркале. q = r1*r2\n",
    "\\begin{equation}\n",
    "\\label{eq1}\n",
    "E_r = r_1 - t_1^2 r_2/(1-q) \\\\\n",
    "E_{in} = t_1 (1 + r_2) / (1-q) \\\\\n",
    "E_t = t_1 t_2 / (1-q)\n",
    "\\end{equation} \n",
    "Введя, что \n",
    "$$\n",
    "r = \\sqrt{1 - T- A}\n",
    "$$\n",
    "\n",
    "Для зеркал с малыми потерями для мощности в уравнениее \\ref{eq1}.2 можно положить r2=1, тогда коэффициент усиления будет равен\n",
    "\\begin{equation}\n",
    "\\label{eq2}\n",
    "\\eta = (E_{in}/2)^2 = \\frac{T_1}{(1-\\sqrt{(1 - T_1- A_1)(1 - T_2- A_2)})^2}\n",
    "\\end{equation} "
   ]
  },
  {
   "cell_type": "markdown",
   "id": "b804ab94",
   "metadata": {},
   "source": [
    "## Functions"
   ]
  },
  {
   "cell_type": "code",
   "execution_count": 3,
   "id": "04fd3cfc",
   "metadata": {},
   "outputs": [],
   "source": [
    "def p_reflected(T1,A1,T2,A2):\n",
    "    r1 = sqrt(1-T1-A1)\n",
    "    r2 = sqrt(1-T2-A2)\n",
    "    return (r1 - T1*r2/(1-r1*r2))**2\n",
    "def p_transmitted(T1,A1,T2,A2):\n",
    "    r1 = sqrt(1-T1-A1)\n",
    "    r2 = sqrt(1-T2-A2)\n",
    "    return T1*T2/(1-r1*r2)**2\n",
    "def p_inside(T1,A1,T2,A2):\n",
    "    r1 = sqrt(1-T1-A1)\n",
    "    r2 = sqrt(1-T2-A2)\n",
    "    return T1*(1+r2)**2/(1-r1*r2)**2/4\n",
    "\n",
    "def m_l(l):\n",
    "    \"\"\"Free space matrix, l - optical path [meters] = d*n, n-reflactive index, d-real distance\"\"\"\n",
    "    return array([[1,l],\n",
    "                  [0,1]])\n",
    "\n",
    "def m_f(f):\n",
    "    \"\"\"Thin lens matrix, f - rear focal distance [meters]\"\"\"\n",
    "    return array([[1,0],\n",
    "                  [-1/f,1]])\n",
    "\n",
    "def z_r(w0,lda):\n",
    "    \"\"\"Calculates rayleigh range [m], w0 - waist [m], lda - wavelength [m]\"\"\"\n",
    "    return (pi*w0**2/lda)\n",
    "\n",
    "def q(z,zr=None,w0=None,z0=0):\n",
    "    \"\"\"calculates q-parameter,z - coordinate [m] (distance to the waist position if z0=0), z_r - rayleigh range [m]\n",
    "    or waist radios w0 [m], z0 - distance to the waist\"\"\"\n",
    "    if zr == None:\n",
    "        zr = z_r(w0,lda)\n",
    "    return (z-z0)+1j*zr\n",
    "\n",
    "def w_z(z,lda,zr=None,w0=None,z0=0):\n",
    "    \"\"\"calculates beam radius [m] based on z_r - rayleigh range [m] or waist radius w0 [m],lda - wavelength [m]\"\"\"\n",
    "    if zr == None:\n",
    "        zr = z_r(w0,lda)\n",
    "    return sqrt(lda / pi * zr)*sqrt(1 + (z-z0)**2/zr**2)\n",
    "\n",
    "\n",
    "def get_w(q,lda):\n",
    "    \"\"\"Returns beam radius w [m] based on q-parameter\"\"\"\n",
    "    return sqrt(lda / (pi * imag(-1/q)))\n",
    "\n",
    "def get_w0(q,lda):\n",
    "    \"\"\"Returns beam waist radius w [m] based on q-parameter\"\"\"\n",
    "    return sqrt(lda / pi * imag(q))\n",
    "\n",
    "def waist_and_pos(z,z0,w0):\n",
    "    return waist(z-z0,w0)\n",
    "\n",
    "def finesse (R,A):\n",
    "    \"\"\"R - input mirror reflectivity, A - losses in the cavity\"\"\"\n",
    "    return pi/(1 - sqrt(R*(1-A)))\n",
    "\n",
    "def apply_m_to_q(m,q):\n",
    "    \"\"\"Apply matrix m to q-parameter\"\"\"\n",
    "    return (m[0,0]*q + m[0,1]) / (m[1,0]*q + m[1,1])\n",
    "\n",
    "def matrix_mult(*mts):\n",
    "    \"\"\"Multiplies matrixes mts: m1*m2...*mN\"\"\"\n",
    "    if len(mts) > 1:\n",
    "        res = mts[0]\n",
    "        for m in mts[1:]:\n",
    "            res = dot(m,res)\n",
    "        return res\n",
    "    \n",
    "    \n"
   ]
  },
  {
   "cell_type": "code",
   "execution_count": 4,
   "id": "8192fcaa",
   "metadata": {},
   "outputs": [],
   "source": [
    "class BeamTrace:\n",
    "    def __init__(self,matrexes,q_in,z0=0,n_points=10):\n",
    "        self.n_points = n_points\n",
    "        self.z0 = z0 #distance from q_in point to 0, needed only for convinience\n",
    "        self.matrexes = matrexes # array of matrixes or labels - strings (names) at wich to calculate q-parameter\n",
    "        self.xs = [] # x coordinates\n",
    "        self.ws = [] # beam waists vs. xs\n",
    "        self.qz_to_print = [] # future array of (label,q) for labels in matrexes\n",
    "        self.q_in = q_in # initial q-parameter of the beam\n",
    "        \n",
    "    def constructRey(self):\n",
    "        \"\"\"Function that construct waists vs x posision\"\"\"\n",
    "        self.xs = []\n",
    "        self.ws = []\n",
    "        self.qs_to_print = []\n",
    "        q_in = self.q_in\n",
    "        direction = 1 # direction of the beam (if mirror comes it changes the direction)\n",
    "        for M in self.matrexes:\n",
    "            \n",
    "            if type(M) == str: # it is a label to save current beam parameter\n",
    "                    self.qs_to_print.append((M,get_w(q_in,lda),q_in))\n",
    "                    print(self.qs_to_print[-1])\n",
    "                    continue\n",
    "                    \n",
    "            if M[0][1] != 0: # it is free space matrix \n",
    "                xs = linspace(0,M[0][1],self.n_points)\n",
    "                ws = w_z(xs+real(q_in),lda=lda,zr=imag(q_in)) # calculates waists\n",
    "                #print(ws)\n",
    "                \n",
    "                if self.xs != []: # point where if stoped in previous matrix\n",
    "                    extr = self.xs[-1]\n",
    "                else :\n",
    "                    extr = self.z0\n",
    "                    \n",
    "                self.xs.extend(direction*xs+extr)\n",
    "                self.ws.extend(ws)\n",
    "                \n",
    "            elif M[0][1] == 0 and M[1][0] == 0: # ones matrix means a mirror - change of the direction\n",
    "                direction *= -1\n",
    "                continue\n",
    "            q_in = apply_m_to_q(M,q_in) #calculate new q-parameter for the next matrix\n",
    "        "
   ]
  },
  {
   "cell_type": "markdown",
   "id": "699a64fe",
   "metadata": {},
   "source": [
    "## Beam"
   ]
  },
  {
   "cell_type": "code",
   "execution_count": 5,
   "id": "1abcc09f",
   "metadata": {},
   "outputs": [
    {
     "name": "stdout",
     "output_type": "stream",
     "text": [
      "[0.001 0.15  0.3   0.6  ] [0.00045 0.00228 0.00245 0.00326] [1.35e-03 5.20e-05 5.50e-05 6.00e-05]\n"
     ]
    }
   ],
   "source": [
    "lda=780e-9\n",
    "arr = array([\n",
    "    (1, 450, 1350),\n",
    "#    (232, 4340, 2486),\n",
    "#    (261, 4159, 2288),\n",
    "    (150, 2280, 52),\n",
    "#    (320, 4640, 2260),\n",
    "    (300, 2450, 55),\n",
    "    (600, 3260, 60),\n",
    "])#(L[mm], Dx[mkm], Dy[mkm])\n",
    "L = arr[:,0]*1e-3\n",
    "Rx = arr[:,1]*1e-6\n",
    "Ry = arr[:,2]*1e-6\n",
    "print(L,Rx,Ry)\n",
    "def wz(z,w0,z0):\n",
    "    return w0*sqrt(1+((z-z0)/z_r(w0,lda))**2)"
   ]
  },
  {
   "cell_type": "code",
   "execution_count": 6,
   "id": "9a28d982",
   "metadata": {},
   "outputs": [
    {
     "name": "stdout",
     "output_type": "stream",
     "text": [
      "5.97314101163461e-05 -0.2446554326038484\n",
      "-0.028740267149822137j\n"
     ]
    }
   ],
   "source": [
    "#plt.plot(L*1000, Rx*1e6, '.')\n",
    "popt, pcov = curve_fit(wz, L, Rx, p0 = (2e-3, -2))\n",
    "R0x = popt[0] #[mkm]\n",
    "Z0x = popt[1] #[mm]\n",
    "l = np.linspace(-2, 2, 1000)\n",
    "#plt.plot(l*1e3, wz(l, *popt)*1e6, 'r')\n",
    "print(R0x,Z0x)\n",
    "q_0=-1j*2*np.pi*(R0x**2)/780e-9\n",
    "print(q_0)"
   ]
  },
  {
   "cell_type": "code",
   "execution_count": 7,
   "id": "0c6d5fbd",
   "metadata": {},
   "outputs": [
    {
     "name": "stdout",
     "output_type": "stream",
     "text": [
      "nan\n"
     ]
    },
    {
     "name": "stderr",
     "output_type": "stream",
     "text": [
      "/var/folders/h9/ll8t8frd1r575llt96l1glhm0000gn/T/ipykernel_47517/3789569966.py:39: RuntimeWarning: invalid value encountered in sqrt\n",
      "  return sqrt(lda / pi * zr)*sqrt(1 + (z-z0)**2/zr**2)\n"
     ]
    },
    {
     "data": {
      "image/png": "[encoded data removed]",
      "text/plain": [
       "<Figure size 432x288 with 1 Axes>"
      ]
     },
     "metadata": {
      "needs_background": "light"
     },
     "output_type": "display_data"
    }
   ],
   "source": [
    "L_1=0.6\n",
    "L_2=0.5\n",
    "tisa = BeamTrace([m_l(L_1)],\n",
    "                     z0=0,\n",
    "                     q_in=q_0,n_points=100)\n",
    "tisa.constructRey()\n",
    "plot(tisa.xs,array(tisa.ws)*1e6)\n",
    "title(\"Horizontal\")\n",
    "print(min(array(tisa.ws)*1e6))"
   ]
  },
  {
   "cell_type": "markdown",
   "id": "f792656c",
   "metadata": {},
   "source": [
    "# Resonator"
   ]
  },
  {
   "cell_type": "code",
   "execution_count": 8,
   "id": "ee1b018d",
   "metadata": {},
   "outputs": [
    {
     "data": {
      "text/plain": [
       "0.15752192379130373"
      ]
     },
     "execution_count": 8,
     "metadata": {},
     "output_type": "execute_result"
    }
   ],
   "source": [
    "p_reflected(0.2,0,0.005,0.4)"
   ]
  },
  {
   "cell_type": "code",
   "execution_count": 41,
   "id": "0650d8d2",
   "metadata": {},
   "outputs": [
    {
     "name": "stdout",
     "output_type": "stream",
     "text": [
      "0.1760976314223898\n"
     ]
    }
   ],
   "source": [
    "# L1=0.02\n",
    "# f1=0.1\n",
    "# L2=0.15\n",
    "# f2=0.1\n",
    "# L3=0.02\n",
    "# R=0.25\n",
    "\n",
    "# cavity = matrix_mult(\n",
    "#                     m_l(L2/2),\n",
    "#                     m_f(f2),\n",
    "#                     m_l(L3),\n",
    "#                     m_l(L3),\n",
    "#                     m_f(f2),\n",
    "#                     m_l(L2),\n",
    "#                     m_f(f1),\n",
    "#                     m_l(L1),\n",
    "#                     m_l(L1),\n",
    "#                     m_f(f1),\n",
    "#                     m_l(L2/2)\n",
    "#                     )\n",
    "\n",
    "\n",
    "R = 25e-2\n",
    "L = 13e-2\n",
    "\n",
    "cavity = matrix_mult(m_l(L), m_f(R/2), m_l(L))\n",
    "\n",
    "\n",
    "\n",
    "res0 = root(lambda x: abs(apply_m_to_q(cavity,1j*x)-1j*x),20e-6)\n",
    "w0 = w_z(z=0,lda=lda,zr=res0.x[0])\n",
    "# print(res0)\n",
    "print(w0*1e3)"
   ]
  },
  {
   "cell_type": "code",
   "execution_count": null,
   "id": "5e8f6627",
   "metadata": {},
   "outputs": [],
   "source": []
  },
  {
   "cell_type": "code",
   "execution_count": 31,
   "id": "c034bd73",
   "metadata": {},
   "outputs": [
    {
     "data": {
      "text/plain": [
       "Text(0.5, 1.0, 'Horizontal')"
      ]
     },
     "execution_count": 31,
     "metadata": {},
     "output_type": "execute_result"
    },
    {
     "data": {
      "image/png": "[encoded data removed]",
      "text/plain": [
       "<Figure size 432x288 with 1 Axes>"
      ]
     },
     "metadata": {
      "needs_background": "light"
     },
     "output_type": "display_data"
    }
   ],
   "source": [
    "# tisa = BeamTrace([ m_l(L2/2),\n",
    "#                     m_f(f2),\n",
    "#                     m_l(L3),\n",
    "#                     m_l(L3),\n",
    "#                     m_f(f2),\n",
    "#                     m_l(L2),\n",
    "#                     m_f(f1),\n",
    "#                     m_l(L1),\n",
    "#                     m_l(L1),\n",
    "#                     m_f(f1),\n",
    "#                     m_l(L2/2)],\n",
    "#                      z0=0,\n",
    "#                      q_in=1j*abs(res0.x[0]),n_points=100)\n",
    "\n",
    "tisa = BeamTrace([m_l(L), m_f(R/2), m_l(L)], q_in=1j*abs(res0.x[0]),n_points=100)\n",
    "tisa.constructRey()\n",
    "plot(tisa.xs,array(tisa.ws)*1e6)\n",
    "title(\"Horizontal\")"
   ]
  },
  {
   "cell_type": "code",
   "execution_count": 11,
   "id": "654dcfd2",
   "metadata": {},
   "outputs": [
    {
     "data": {
      "text/plain": [
       "6.500000000000001e-05"
      ]
     },
     "execution_count": 11,
     "metadata": {},
     "output_type": "execute_result"
    }
   ],
   "source": [
    "780e-9/3e-3*0.25"
   ]
  },
  {
   "cell_type": "markdown",
   "id": "959aebf6",
   "metadata": {},
   "source": [
    "## 3 зеркала"
   ]
  },
  {
   "cell_type": "code",
   "execution_count": 12,
   "id": "e4d7c79b",
   "metadata": {},
   "outputs": [
    {
     "name": "stdout",
     "output_type": "stream",
     "text": [
      "    fjac: array([[ 0., -1.],\n",
      "       [-1.,  0.]])\n",
      "     fun: array([0., 2.])\n",
      " message: 'The iteration is not making good progress, as measured by the \\n  improvement from the last ten iterations.'\n",
      "    nfev: 15\n",
      "     qtf: array([-2.,  0.])\n",
      "       r: array([0.00011195, 0.        , 0.        ])\n",
      "  status: 5\n",
      " success: False\n",
      "       x: array([1.e+00, 1.e-06])\n",
      "0.4982787485166879\n",
      "[1.e+00 1.e-06]\n"
     ]
    }
   ],
   "source": [
    "L_1=1\n",
    "\n",
    "R=2\n",
    "\n",
    "cavity = matrix_mult(m_l(L_1),\n",
    "                          m_f(R/2),\n",
    "                          m_l(L_1))\n",
    "\n",
    "def func(x):\n",
    "    return [0, abs(apply_m_to_q(cavity,x[0]+1j*x[1])-x[0]-1j*x[1])]\n",
    "    \n",
    "res0 = root(func,[1,1e-6])\n",
    "w0 = w_z(z=0,lda=lda,zr=(abs(res0.x[1])))\n",
    "\n",
    "print(res0)\n",
    "print(w0*1e6)\n",
    "print(res0.x)"
   ]
  },
  {
   "cell_type": "code",
   "execution_count": 13,
   "id": "4cadbcac",
   "metadata": {},
   "outputs": [
    {
     "ename": "NameError",
     "evalue": "name 'phi' is not defined",
     "output_type": "error",
     "traceback": [
      "\u001b[0;31m---------------------------------------------------------------------------\u001b[0m",
      "\u001b[0;31mNameError\u001b[0m                                 Traceback (most recent call last)",
      "Input \u001b[0;32mIn [13]\u001b[0m, in \u001b[0;36m<module>\u001b[0;34m\u001b[0m\n\u001b[1;32m      1\u001b[0m tisa \u001b[38;5;241m=\u001b[39m BeamTrace([m_l(L_1),\n\u001b[0;32m----> 2\u001b[0m                 m_f(R\u001b[38;5;241m*\u001b[39mnp\u001b[38;5;241m.\u001b[39mcos(\u001b[43mphi\u001b[49m)\u001b[38;5;241m/\u001b[39m\u001b[38;5;241m2\u001b[39m),\n\u001b[1;32m      3\u001b[0m                 m_l(L_1)],\n\u001b[1;32m      4\u001b[0m                      z0\u001b[38;5;241m=\u001b[39m\u001b[38;5;241m0\u001b[39m,\n\u001b[1;32m      5\u001b[0m                      q_in\u001b[38;5;241m=\u001b[39m\u001b[38;5;241m1\u001b[39mj\u001b[38;5;241m*\u001b[39m\u001b[38;5;28mabs\u001b[39m(res0\u001b[38;5;241m.\u001b[39mx[\u001b[38;5;241m0\u001b[39m]),n_points\u001b[38;5;241m=\u001b[39m\u001b[38;5;241m100\u001b[39m)\n\u001b[1;32m      6\u001b[0m tisa\u001b[38;5;241m.\u001b[39mconstructRey()\n\u001b[1;32m      7\u001b[0m plot(tisa\u001b[38;5;241m.\u001b[39mxs,array(tisa\u001b[38;5;241m.\u001b[39mws)\u001b[38;5;241m*\u001b[39m\u001b[38;5;241m1e6\u001b[39m)\n",
      "\u001b[0;31mNameError\u001b[0m: name 'phi' is not defined"
     ]
    }
   ],
   "source": [
    "tisa = BeamTrace([m_l(L_1),\n",
    "                m_f(R*np.cos(phi)/2),\n",
    "                m_l(L_1)],\n",
    "                     z0=0,\n",
    "                     q_in=1j*abs(res0.x[0]),n_points=100)\n",
    "tisa.constructRey()\n",
    "plot(tisa.xs,array(tisa.ws)*1e6)\n",
    "title(\"Horizontal\")"
   ]
  },
  {
   "cell_type": "code",
   "execution_count": 14,
   "id": "e5197aab",
   "metadata": {},
   "outputs": [
    {
     "name": "stdout",
     "output_type": "stream",
     "text": [
      "94.1564143013567\n"
     ]
    }
   ],
   "source": [
    "L_1=0.085\n",
    "L_2=0.13\n",
    "\n",
    "R=0.1\n",
    "phi = 0\n",
    "cavity = matrix_mult(m_l(L_1),\n",
    "                          m_f(R*np.cos(phi)/2),\n",
    "                          m_l(L_1))\n",
    "res0 = root(lambda x: abs(apply_m_to_q(cavity,1j*x)-1j*x),20e-6)\n",
    "w0 = w_z(z=0,lda=lda,zr=res0.x[0])\n",
    "print(w0*1e6)"
   ]
  },
  {
   "cell_type": "code",
   "execution_count": 15,
   "id": "ec794f1f",
   "metadata": {},
   "outputs": [
    {
     "data": {
      "text/plain": [
       "Text(0.5, 1.0, 'Horizontal')"
      ]
     },
     "execution_count": 15,
     "metadata": {},
     "output_type": "execute_result"
    },
    {
     "data": {
      "image/png": "[encoded data removed]",
      "text/plain": [
       "<Figure size 432x288 with 1 Axes>"
      ]
     },
     "metadata": {
      "needs_background": "light"
     },
     "output_type": "display_data"
    }
   ],
   "source": [
    "tisa = BeamTrace([m_l(L_1),\n",
    "                m_f(R*np.cos(phi)/2),\n",
    "                m_l(L_1)],\n",
    "                     z0=0,\n",
    "                     q_in=1j*res0.x[0],n_points=100)\n",
    "tisa.constructRey()\n",
    "plot(tisa.xs,array(tisa.ws)*1e6)\n",
    "title(\"Horizontal\")"
   ]
  },
  {
   "cell_type": "code",
   "execution_count": 16,
   "id": "8a8024c1",
   "metadata": {},
   "outputs": [
    {
     "name": "stderr",
     "output_type": "stream",
     "text": [
      "/var/folders/h9/ll8t8frd1r575llt96l1glhm0000gn/T/ipykernel_47517/3789569966.py:16: VisibleDeprecationWarning: Creating an ndarray from ragged nested sequences (which is a list-or-tuple of lists-or-tuples-or ndarrays with different lengths or shapes) is deprecated. If you meant to do this, you must specify 'dtype=object' when creating the ndarray.\n",
      "  return array([[1,l],\n"
     ]
    },
    {
     "ename": "ValueError",
     "evalue": "The truth value of an array with more than one element is ambiguous. Use a.any() or a.all()",
     "output_type": "error",
     "traceback": [
      "\u001b[0;31m---------------------------------------------------------------------------\u001b[0m",
      "\u001b[0;31mValueError\u001b[0m                                Traceback (most recent call last)",
      "Input \u001b[0;32mIn [16]\u001b[0m, in \u001b[0;36m<module>\u001b[0;34m\u001b[0m\n\u001b[1;32m      1\u001b[0m tisa \u001b[38;5;241m=\u001b[39m BeamTrace([m_l(L),m_f(R\u001b[38;5;241m/\u001b[39m\u001b[38;5;241m2\u001b[39m), m_l(L)],\n\u001b[1;32m      2\u001b[0m                      z0\u001b[38;5;241m=\u001b[39m\u001b[38;5;241m0\u001b[39m,\n\u001b[1;32m      3\u001b[0m                      q_in\u001b[38;5;241m=\u001b[39m\u001b[38;5;241m1\u001b[39mj\u001b[38;5;241m*\u001b[39mres0\u001b[38;5;241m.\u001b[39mx[\u001b[38;5;241m0\u001b[39m],n_points\u001b[38;5;241m=\u001b[39m\u001b[38;5;241m100\u001b[39m)\n\u001b[0;32m----> 4\u001b[0m \u001b[43mtisa\u001b[49m\u001b[38;5;241;43m.\u001b[39;49m\u001b[43mconstructRey\u001b[49m\u001b[43m(\u001b[49m\u001b[43m)\u001b[49m\n\u001b[1;32m      5\u001b[0m plot(tisa\u001b[38;5;241m.\u001b[39mxs,array(tisa\u001b[38;5;241m.\u001b[39mws)\u001b[38;5;241m*\u001b[39m\u001b[38;5;241m1e6\u001b[39m)\n\u001b[1;32m      6\u001b[0m title(\u001b[38;5;124m\"\u001b[39m\u001b[38;5;124mHorizontal\u001b[39m\u001b[38;5;124m\"\u001b[39m)\n",
      "Input \u001b[0;32mIn [4]\u001b[0m, in \u001b[0;36mBeamTrace.constructRey\u001b[0;34m(self)\u001b[0m\n\u001b[1;32m     22\u001b[0m         \u001b[38;5;28mprint\u001b[39m(\u001b[38;5;28mself\u001b[39m\u001b[38;5;241m.\u001b[39mqs_to_print[\u001b[38;5;241m-\u001b[39m\u001b[38;5;241m1\u001b[39m])\n\u001b[1;32m     23\u001b[0m         \u001b[38;5;28;01mcontinue\u001b[39;00m\n\u001b[0;32m---> 25\u001b[0m \u001b[38;5;28;01mif\u001b[39;00m M[\u001b[38;5;241m0\u001b[39m][\u001b[38;5;241m1\u001b[39m] \u001b[38;5;241m!=\u001b[39m \u001b[38;5;241m0\u001b[39m: \u001b[38;5;66;03m# it is free space matrix \u001b[39;00m\n\u001b[1;32m     26\u001b[0m     xs \u001b[38;5;241m=\u001b[39m linspace(\u001b[38;5;241m0\u001b[39m,M[\u001b[38;5;241m0\u001b[39m][\u001b[38;5;241m1\u001b[39m],\u001b[38;5;28mself\u001b[39m\u001b[38;5;241m.\u001b[39mn_points)\n\u001b[1;32m     27\u001b[0m     ws \u001b[38;5;241m=\u001b[39m w_z(xs\u001b[38;5;241m+\u001b[39mreal(q_in),lda\u001b[38;5;241m=\u001b[39mlda,zr\u001b[38;5;241m=\u001b[39mimag(q_in)) \u001b[38;5;66;03m# calculates waists\u001b[39;00m\n",
      "\u001b[0;31mValueError\u001b[0m: The truth value of an array with more than one element is ambiguous. Use a.any() or a.all()"
     ]
    }
   ],
   "source": [
    "tisa = BeamTrace([m_l(L),m_f(R/2), m_l(L)],\n",
    "                     z0=0,\n",
    "                     q_in=1j*res0.x[0],n_points=100)\n",
    "tisa.constructRey()\n",
    "plot(tisa.xs,array(tisa.ws)*1e6)\n",
    "title(\"Horizontal\")"
   ]
  },
  {
   "cell_type": "code",
   "execution_count": null,
   "id": "313810ff",
   "metadata": {},
   "outputs": [],
   "source": [
    "l_short=47.6e-3#48.2e-3 #49.1\n",
    "l_long=80.0e-3#68e-3 #76.2\n",
    "teta = radians(18)\n",
    "l_diagonal=(l_short+l_long)/(2*cos(teta)) #67.6\n",
    "print(l_diagonal*1e3)\n",
    "n_criystal=1.610#6\n",
    "l_crystal=10e-3\n",
    "r = 40e-3\n",
    "lda=820e-9 #972e-9\n",
    "\n",
    "cavity_hor = matrix_mult(m_l(l_crystal/(2*n_criystal)),\n",
    "                          m_l((l_short-l_crystal)/2),\n",
    "                          m_f(r*cos(teta)/2),\n",
    "                          m_l(l_diagonal+l_long + l_diagonal),\n",
    "                          m_f(r*cos(teta)/2),\n",
    "                          m_l((l_short-l_crystal)/2),\n",
    "                          m_l(l_crystal/(2*n_criystal)))\n",
    "# print(cavity_hor)\n",
    "res0 = root(lambda x: abs(apply_m_to_q(cavity_hor,1j*x)-1j*x),20e-6)\n",
    "w0 = w_z(z=0,lda=lda,zr=res0.x[0])\n",
    "print(w0*1e6)\n",
    "cavity_ver = matrix_mult(m_l(l_crystal/(2*n_criystal)),\n",
    "                          m_l((l_short-l_crystal)/2),\n",
    "                          m_f(r/(2*cos(teta))),\n",
    "                          m_l(l_diagonal+l_long + l_diagonal),\n",
    "                          m_f(r/(2*cos(teta))),\n",
    "                          m_l((l_short-l_crystal)/2),\n",
    "                          m_l(l_crystal/(2*n_criystal)))\n",
    "# print(cavity_ver)\n",
    "# lda=972e-9\n",
    "res1 = root(lambda x: abs(apply_m_to_q(cavity_ver,1j*x)-1j*x),20e-6)\n",
    "w0 = w_z(z=0,lda=lda,zr=res1.x[0])\n",
    "print(w0*1e6)"
   ]
  },
  {
   "cell_type": "code",
   "execution_count": 17,
   "id": "8f914861",
   "metadata": {},
   "outputs": [
    {
     "ename": "NameError",
     "evalue": "name 'l_crystal' is not defined",
     "output_type": "error",
     "traceback": [
      "\u001b[0;31m---------------------------------------------------------------------------\u001b[0m",
      "\u001b[0;31mNameError\u001b[0m                                 Traceback (most recent call last)",
      "Input \u001b[0;32mIn [17]\u001b[0m, in \u001b[0;36m<module>\u001b[0;34m\u001b[0m\n\u001b[0;32m----> 1\u001b[0m tisa \u001b[38;5;241m=\u001b[39m BeamTrace([m_l(\u001b[43ml_crystal\u001b[49m\u001b[38;5;241m/\u001b[39m(\u001b[38;5;241m2\u001b[39m\u001b[38;5;241m*\u001b[39mn_criystal)),m_l((l_short\u001b[38;5;241m-\u001b[39ml_crystal)\u001b[38;5;241m/\u001b[39m\u001b[38;5;241m2\u001b[39m),m_f(r\u001b[38;5;241m*\u001b[39mcos(teta)\u001b[38;5;241m/\u001b[39m\u001b[38;5;241m2\u001b[39m),\n\u001b[1;32m      2\u001b[0m                   m_l(l_diagonal\u001b[38;5;241m+\u001b[39ml_long\u001b[38;5;241m/\u001b[39m\u001b[38;5;241m2\u001b[39m),\u001b[38;5;124m'\u001b[39m\u001b[38;5;124mcenter\u001b[39m\u001b[38;5;124m'\u001b[39m,m_l(l_diagonal\u001b[38;5;241m+\u001b[39ml_long\u001b[38;5;241m/\u001b[39m\u001b[38;5;241m2\u001b[39m),m_f(r\u001b[38;5;241m*\u001b[39mcos(teta)\u001b[38;5;241m/\u001b[39m\u001b[38;5;241m2\u001b[39m),\n\u001b[1;32m      3\u001b[0m                   m_l((l_short\u001b[38;5;241m-\u001b[39ml_crystal)\u001b[38;5;241m/\u001b[39m\u001b[38;5;241m2\u001b[39m),m_l(l_crystal\u001b[38;5;241m/\u001b[39m(\u001b[38;5;241m2\u001b[39m\u001b[38;5;241m*\u001b[39mn_criystal))],\n\u001b[1;32m      4\u001b[0m                      z0\u001b[38;5;241m=\u001b[39m\u001b[38;5;241m0\u001b[39m,\n\u001b[1;32m      5\u001b[0m                      q_in\u001b[38;5;241m=\u001b[39m\u001b[38;5;241m1\u001b[39mj\u001b[38;5;241m*\u001b[39mres0\u001b[38;5;241m.\u001b[39mx[\u001b[38;5;241m0\u001b[39m],n_points\u001b[38;5;241m=\u001b[39m\u001b[38;5;241m100\u001b[39m)\n\u001b[1;32m      6\u001b[0m tisa\u001b[38;5;241m.\u001b[39mconstructRey()\n\u001b[1;32m      7\u001b[0m plot(tisa\u001b[38;5;241m.\u001b[39mxs,array(tisa\u001b[38;5;241m.\u001b[39mws)\u001b[38;5;241m*\u001b[39m\u001b[38;5;241m1e6\u001b[39m)\n",
      "\u001b[0;31mNameError\u001b[0m: name 'l_crystal' is not defined"
     ]
    }
   ],
   "source": [
    "tisa = BeamTrace([m_l(l_crystal/(2*n_criystal)),m_l((l_short-l_crystal)/2),m_f(r*cos(teta)/2),\n",
    "                  m_l(l_diagonal+l_long/2),'center',m_l(l_diagonal+l_long/2),m_f(r*cos(teta)/2),\n",
    "                  m_l((l_short-l_crystal)/2),m_l(l_crystal/(2*n_criystal))],\n",
    "                     z0=0,\n",
    "                     q_in=1j*res0.x[0],n_points=100)\n",
    "tisa.constructRey()\n",
    "plot(tisa.xs,array(tisa.ws)*1e6)\n",
    "title(\"Horizontal\")"
   ]
  },
  {
   "cell_type": "code",
   "execution_count": null,
   "id": "00a164db",
   "metadata": {},
   "outputs": [],
   "source": []
  },
  {
   "cell_type": "code",
   "execution_count": null,
   "id": "aae1de0b",
   "metadata": {},
   "outputs": [],
   "source": []
  },
  {
   "cell_type": "code",
   "execution_count": null,
   "id": "bdbbfd14",
   "metadata": {},
   "outputs": [],
   "source": []
  },
  {
   "cell_type": "code",
   "execution_count": null,
   "id": "70257745",
   "metadata": {},
   "outputs": [],
   "source": []
  },
  {
   "cell_type": "code",
   "execution_count": null,
   "id": "6367bc3c",
   "metadata": {},
   "outputs": [],
   "source": []
  }
 ],
 "metadata": {
  "kernelspec": {
   "display_name": "Python 3 (ipykernel)",
   "language": "python",
   "name": "python3"
  },
  "language_info": {
   "codemirror_mode": {
    "name": "ipython",
    "version": 3
   },
   "file_extension": ".py",
   "mimetype": "text/x-python",
   "name": "python",
   "nbconvert_exporter": "python",
   "pygments_lexer": "ipython3",
   "version": "3.10.0"
  }
 },
 "nbformat": 4,
 "nbformat_minor": 5
}
