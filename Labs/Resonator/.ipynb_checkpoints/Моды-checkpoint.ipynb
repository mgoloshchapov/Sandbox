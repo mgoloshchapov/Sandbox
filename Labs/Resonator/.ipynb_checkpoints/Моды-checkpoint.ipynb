{
 "cells": [
  {
   "cell_type": "code",
   "execution_count": 1,
   "id": "8192d245",
   "metadata": {},
   "outputs": [
    {
     "ename": "FileNotFoundError",
     "evalue": "[Errno 2] No such file or directory: '0.0.jpg'",
     "output_type": "error",
     "traceback": [
      "\u001b[0;31m---------------------------------------------------------------------------\u001b[0m",
      "\u001b[0;31mFileNotFoundError\u001b[0m                         Traceback (most recent call last)",
      "Input \u001b[0;32mIn [1]\u001b[0m, in \u001b[0;36m<module>\u001b[0;34m\u001b[0m\n\u001b[1;32m      5\u001b[0m data \u001b[38;5;241m=\u001b[39m []\n\u001b[1;32m      7\u001b[0m \u001b[38;5;28;01mfor\u001b[39;00m n \u001b[38;5;129;01min\u001b[39;00m \u001b[38;5;28mrange\u001b[39m(\u001b[38;5;241m11\u001b[39m):\n\u001b[0;32m----> 8\u001b[0m     im \u001b[38;5;241m=\u001b[39m \u001b[43mImage\u001b[49m\u001b[38;5;241;43m.\u001b[39;49m\u001b[43mopen\u001b[49m\u001b[43m(\u001b[49m\u001b[38;5;28;43mstr\u001b[39;49m\u001b[43m(\u001b[49m\u001b[38;5;241;43m0.5\u001b[39;49m\u001b[43m \u001b[49m\u001b[38;5;241;43m*\u001b[39;49m\u001b[43m \u001b[49m\u001b[38;5;28;43mfloat\u001b[39;49m\u001b[43m(\u001b[49m\u001b[43mn\u001b[49m\u001b[43m)\u001b[49m\u001b[43m)\u001b[49m\u001b[43m \u001b[49m\u001b[38;5;241;43m+\u001b[39;49m\u001b[43m \u001b[49m\u001b[38;5;124;43m'\u001b[39;49m\u001b[38;5;124;43m.jpg\u001b[39;49m\u001b[38;5;124;43m'\u001b[39;49m\u001b[43m)\u001b[49m\n\u001b[1;32m      9\u001b[0m     im\u001b[38;5;241m.\u001b[39mload()\n\u001b[1;32m     10\u001b[0m     pixels \u001b[38;5;241m=\u001b[39m np\u001b[38;5;241m.\u001b[39masarray(im, dtype\u001b[38;5;241m=\u001b[39m\u001b[38;5;28mfloat\u001b[39m)\n",
      "File \u001b[0;32m~/.conda/envs/Sandbox/lib/python3.10/site-packages/PIL/Image.py:2953\u001b[0m, in \u001b[0;36mopen\u001b[0;34m(fp, mode, formats)\u001b[0m\n\u001b[1;32m   2950\u001b[0m     filename \u001b[38;5;241m=\u001b[39m fp\n\u001b[1;32m   2952\u001b[0m \u001b[38;5;28;01mif\u001b[39;00m filename:\n\u001b[0;32m-> 2953\u001b[0m     fp \u001b[38;5;241m=\u001b[39m \u001b[43mbuiltins\u001b[49m\u001b[38;5;241;43m.\u001b[39;49m\u001b[43mopen\u001b[49m\u001b[43m(\u001b[49m\u001b[43mfilename\u001b[49m\u001b[43m,\u001b[49m\u001b[43m \u001b[49m\u001b[38;5;124;43m\"\u001b[39;49m\u001b[38;5;124;43mrb\u001b[39;49m\u001b[38;5;124;43m\"\u001b[39;49m\u001b[43m)\u001b[49m\n\u001b[1;32m   2954\u001b[0m     exclusive_fp \u001b[38;5;241m=\u001b[39m \u001b[38;5;28;01mTrue\u001b[39;00m\n\u001b[1;32m   2956\u001b[0m \u001b[38;5;28;01mtry\u001b[39;00m:\n",
      "\u001b[0;31mFileNotFoundError\u001b[0m: [Errno 2] No such file or directory: '0.0.jpg'"
     ]
    }
   ],
   "source": [
    "import numpy as np\n",
    "from scipy.optimize import curve_fit\n",
    "from PIL import Image\n",
    "\n",
    "data = []\n",
    "\n",
    "for n in range(11):\n",
    "    im = Image.open(str(0.5 * float(n)) + '.jpg')\n",
    "    im.load()\n",
    "    pixels = np.asarray(im, dtype=float)\n",
    "    int_pixs = np.mean(pixels, axis=2)\n",
    "    data.append(int_pixs)\n",
    "    \n",
    "data = np.array(data, dtype=float).reshape((720, 720, 11))"
   ]
  },
  {
   "cell_type": "code",
   "execution_count": 2,
   "id": "39083c8c",
   "metadata": {},
   "outputs": [
    {
     "ename": "TypeError",
     "evalue": "list indices must be integers or slices, not tuple",
     "output_type": "error",
     "traceback": [
      "\u001b[0;31m---------------------------------------------------------------------------\u001b[0m",
      "\u001b[0;31mTypeError\u001b[0m                                 Traceback (most recent call last)",
      "Input \u001b[0;32mIn [2]\u001b[0m, in \u001b[0;36m<module>\u001b[0;34m\u001b[0m\n\u001b[1;32m     16\u001b[0m x, y, z \u001b[38;5;241m=\u001b[39m np\u001b[38;5;241m.\u001b[39mmeshgrid(xs, ys, zs)\n\u001b[1;32m     18\u001b[0m p0 \u001b[38;5;241m=\u001b[39m \u001b[38;5;241m1.2\u001b[39m, \u001b[38;5;241m0.2\u001b[39m, \u001b[38;5;241m-\u001b[39m\u001b[38;5;241m0.2\u001b[39m, \u001b[38;5;241m1.2\u001b[39m\n\u001b[0;32m---> 19\u001b[0m \u001b[38;5;28mprint\u001b[39m(curve_fit(gauss_beam, (x, y, z), \u001b[43mdata\u001b[49m\u001b[43m[\u001b[49m\u001b[43m:\u001b[49m\u001b[43m,\u001b[49m\u001b[43m \u001b[49m\u001b[43m:\u001b[49m\u001b[43m,\u001b[49m\u001b[43m \u001b[49m\u001b[43m:\u001b[49m\u001b[38;5;241;43m3\u001b[39;49m\u001b[43m]\u001b[49m\u001b[38;5;241m.\u001b[39mflatten(), p0))\n",
      "\u001b[0;31mTypeError\u001b[0m: list indices must be integers or slices, not tuple"
     ]
    }
   ],
   "source": [
    "lbd = 1.0\n",
    "\n",
    "def gauss_beam(r, C2, x0, y0, z0):\n",
    "    global lbd\n",
    "    x = r[0, :, :, :].flatten()\n",
    "    y = r[1, :, :, :].flatten()\n",
    "    z = r[2, :, :, :].flatten()\n",
    "    w0 = np.sqrt(0.5 * lbd * z0 / np.pi)\n",
    "    w = w0 * np.sqrt(1.0 + z**2/z0**2)\n",
    "    return C2 * (w0**2 / w**2) * np.exp(-((x-x0)**2 + (y-y0)**2) / w**2)\n",
    "\n",
    "xs = np.linspace(-4.0, 4.0, 720)\n",
    "ys = np.linspace(-4.0, 4.0, 720)\n",
    "zs = np.arange(0.0, 5.5, 0.5)[:3]\n",
    "\n",
    "x, y, z = np.meshgrid(xs, ys, zs)\n",
    "\n",
    "p0 = 1.2, 0.2, -0.2, 1.2\n",
    "print(curve_fit(gauss_beam, (x, y, z), data[:, :, :3].flatten(), p0))"
   ]
  },
  {
   "cell_type": "code",
   "execution_count": 5,
   "id": "63865a9f",
   "metadata": {},
   "outputs": [
    {
     "data": {
      "image/png": "[encoded data removed]",
      "text/plain": [
       "<Figure size 432x288 with 1 Axes>"
      ]
     },
     "metadata": {
      "needs_background": "light"
     },
     "output_type": "display_data"
    }
   ],
   "source": [
    "import numpy as np\n",
    "import matplotlib.pyplot as plt\n",
    "\n",
    "shift = 380.5\n",
    "\n",
    "m_00 = np.array([380.5531, 380.5460, 380.5433]) - shift\n",
    "m_01 = np.array([380.5559, 380.5517, 380.5490, 380.5392, 380.5224, 380.5232, 380.5605, 380.5682, 380.5419, 380.5443, 380.5155, 380.5158, 380.5175, 380.5207, 380.5414])-shift\n",
    "m_02 = np.array([380.5545, 380.5448, 380.5362, 380.5317, 380.5254, 380.5501, 380.5599])-shift\n",
    "m_03 = np.array([380.5463])-shift\n",
    "m_04 = np.array([380.5419])-shift\n",
    "\n",
    "m_00 = np.repeat(m_00, 3)\n",
    "m_01 = np.repeat(m_01, 3)\n",
    "m_02 = np.repeat(m_02, 3)\n",
    "m_03 = np.repeat(m_03, 3)\n",
    "m_04 = np.repeat(m_04, 3)\n",
    "\n",
    "m_00_y = np.array([0.0, 1.0, 0.0] * (len(m_00) // 3))\n",
    "m_01_y = np.array([0.0, 1.0 / 2.0, 0.0] * (len(m_01) // 3))\n",
    "m_02_y = np.array([0.0, 1.0 / 3.0, 0.0] * (len(m_02) // 3))\n",
    "m_03_y = np.array([0.0, 1.0 / 4.0, 0.0] * (len(m_03) // 3))\n",
    "m_04_y = np.array([0.0, 1.0 / 5.0, 0.0] * (len(m_04) // 3))\n",
    "\n",
    "plt.plot(m_00*1e3, m_00_y, label='00')\n",
    "plt.plot(m_01*1e3, m_01_y, label='01')\n",
    "plt.plot(m_02*1e3, m_02_y, label = '02')\n",
    "plt.plot(m_03*1e3, m_03_y, label='03')\n",
    "plt.plot(m_04*1e3, m_04_y, label='04')\n",
    "plt.legend()\n",
    "\n",
    "plt.xlim(40,45)\n",
    "plt.show()"
   ]
  },
  {
   "cell_type": "code",
   "execution_count": 4,
   "id": "f1f6cb8e",
   "metadata": {},
   "outputs": [
    {
     "data": {
      "text/plain": [
       "0.27000000000043656"
      ]
     },
     "execution_count": 4,
     "metadata": {},
     "output_type": "execute_result"
    },
    {
     "data": {
      "image/png": "[encoded data removed]",
      "text/plain": [
       "<Figure size 432x288 with 1 Axes>"
      ]
     },
     "metadata": {
      "needs_background": "light"
     },
     "output_type": "display_data"
    }
   ],
   "source": [
    "m_01 = np.array([380.5559, 380.5517, 380.5490, 380.5392, 380.5224, 380.5232, 380.5605, 380.5682, 380.5419, 380.5443, 380.5155, 380.5158, 380.5175, 380.5207, 380.5414])\n",
    "m_01 = np.sort(m_01)\n",
    "\n",
    "plt.plot(m_01)\n",
    "m_01\n",
    "\n",
    "np.mean(m_02[1:]-m_02[:-1]) * 1e3"
   ]
  },
  {
   "cell_type": "code",
   "execution_count": null,
   "id": "3a3369cc",
   "metadata": {},
   "outputs": [],
   "source": []
  },
  {
   "cell_type": "code",
   "execution_count": null,
   "id": "cbc84473",
   "metadata": {},
   "outputs": [],
   "source": []
  },
  {
   "cell_type": "code",
   "execution_count": null,
   "id": "edd58c95",
   "metadata": {},
   "outputs": [],
   "source": []
  }
 ],
 "metadata": {
  "kernelspec": {
   "display_name": "Python 3 (ipykernel)",
   "language": "python",
   "name": "python3"
  },
  "language_info": {
   "codemirror_mode": {
    "name": "ipython",
    "version": 3
   },
   "file_extension": ".py",
   "mimetype": "text/x-python",
   "name": "python",
   "nbconvert_exporter": "python",
   "pygments_lexer": "ipython3",
   "version": "3.10.0"
  }
 },
 "nbformat": 4,
 "nbformat_minor": 5
}
